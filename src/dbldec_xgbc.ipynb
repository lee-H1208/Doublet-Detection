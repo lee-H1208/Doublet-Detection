{
 "cells": [
  {
   "cell_type": "code",
   "execution_count": null,
   "id": "3b1500a7-e624-4eb8-be3a-90eb395918ac",
   "metadata": {},
   "outputs": [],
   "source": [
    "import pandas as pd\n",
    "import scanpy as sc\n",
    "import gc\n",
    "\n",
    "from sklearn.metrics import confusion_matrix, roc_curve, auc\n",
    "from sklearn.metrics import precision_recall_curve\n",
    "from pathlib import Path\n",
    "import time\n",
    "\n",
    "import sys, os\n",
    "sys.path.append(os.path.join(os.path.dirname(os.getcwd()), \"src\"))\n",
    "import dbldec\n",
    "\n",
    "# scanpy settings\n",
    "sc.settings.set_figure_params(dpi=100, frameon=False, facecolor='white')\n",
    "sc.settings.verbosity = 0             # verbosity: errors (0), warnings (1), info (2), hints (3)\n",
    "# Set random seed directly in scanpy \n",
    "sc.settings.seed = 42"
   ]
  },
  {
   "cell_type": "code",
   "execution_count": null,
   "id": "c2cbda0b-7c75-49e8-a9b1-4d96cc726ccf",
   "metadata": {},
   "outputs": [],
   "source": [
    "sample_path = r'../../SUM25/h5ad_format/'\n",
    "# Replace 'your_folder_path' with your actual path\n",
    "folder_path = Path(sample_path)\n",
    "h5ad_files = list(folder_path.glob('*.h5ad'))\n",
    "\n",
    "sample_names = [file.name.replace('.h5ad', '') for file in h5ad_files]\n",
    "\n",
    "# temporary to adjust to start to 'HMEC-orig-MULTI'\n",
    "start_sample = 'pbmc-1A-dm'\n",
    "start_index = sample_names.index(start_sample)\n",
    "sample_names = sample_names[start_index:] + sample_names[:start_index]\n",
    "sample_names"
   ]
  },
  {
   "cell_type": "code",
   "execution_count": null,
   "id": "199d9e6e-aa5a-4a6d-adaf-c00a37be1c6e",
   "metadata": {},
   "outputs": [],
   "source": [
    "dfs = []\n",
    "for sample_name in sample_names:\n",
    "    print(sample_name)\n",
    "    # get data\n",
    "    sample_file = sample_path + sample_name + r'.h5ad'\n",
    "    adata = sc.read_h5ad(sample_file)\n",
    "    adata.X = adata.X.toarray()\n",
    "    sc.pp.filter_genes(adata, min_cells=1)\n",
    "    sc.pp.filter_cells(adata, min_genes=1) \n",
    "    adata.raw = adata.copy()\n",
    "\n",
    "    start_time = time.time()\n",
    "    doublet_probs, doublet_preds = dbldec.dbl_dec(adata, n_features=1000, verbose=0)\n",
    "    execution_time = time.time() - start_time\n",
    "      \n",
    "    # Get metrics in df\n",
    "    y_test = adata.obs.y_true  \n",
    "    y_pred = doublet_preds.astype(int)\n",
    "    n_cells = adata.n_obs\n",
    "    precision, recall, thresholds = precision_recall_curve(y_test, doublet_probs)\n",
    "    auprc = auc(recall, precision)\n",
    "    fpr, tpr, _ = roc_curve(y_test, doublet_probs)\n",
    "    auroc = auc(fpr, tpr)\n",
    "    cm = confusion_matrix(y_test, y_pred)\n",
    "    TN = cm[0,0]\n",
    "    FP = cm[0,1]\n",
    "    FN = cm[1,0]\n",
    "    TP = cm[1,1]\n",
    "    df_metrics = pd.DataFrame([n_cells, execution_time, auprc, auroc, TN, FP, FN, TP], \n",
    "                      index = ['Num cells', 'time', 'auprc', 'auroc', 'TN', 'FP', 'FN', 'TP']).T\n",
    "    df_metrics.index = [sample_name]\n",
    "    dfs.append(df_metrics)\n",
    "    display(df_metrics)\n",
    "\n",
    "    del adata, doublet_probs, doublet_preds, y_test, y_pred, precision, recall, thresholds, fpr, tpr, cm\n",
    "    gc.collect()\n",
    "    \n",
    "df_output = pd.concat(dfs, ignore_index=False)\n",
    "df_output.to_csv('gbc_output.csv')\n",
    "display(df_output)"
   ]
  }
 ],
 "metadata": {
  "kernelspec": {
   "display_name": "dbldec",
   "language": "python",
   "name": "python3"
  },
  "language_info": {
   "codemirror_mode": {
    "name": "ipython",
    "version": 3
   },
   "file_extension": ".py",
   "mimetype": "text/x-python",
   "name": "python",
   "nbconvert_exporter": "python",
   "pygments_lexer": "ipython3",
   "version": "3.10.16"
  }
 },
 "nbformat": 4,
 "nbformat_minor": 5
}
